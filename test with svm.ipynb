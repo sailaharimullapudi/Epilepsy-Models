{
 "cells": [
  {
   "cell_type": "code",
   "execution_count": 1,
   "id": "d39a6b82",
   "metadata": {},
   "outputs": [],
   "source": [
    "import numpy as np\n",
    "from sklearn import svm\n",
    "from sklearn.metrics import classification_report, accuracy_score\n",
    "from sklearn.preprocessing import StandardScaler"
   ]
  },
  {
   "cell_type": "code",
   "execution_count": 2,
   "id": "ce85ceb2",
   "metadata": {},
   "outputs": [],
   "source": [
    "x_train = np.load('/Users/sailaharimullapudi/Desktop/data_24/Npy_files/x_train.npy') \n",
    "y_train = np.load('/Users/sailaharimullapudi/Desktop/data_24/Npy_files/y_train.npy')  \n",
    "x_test = np.load('/Users/sailaharimullapudi/Desktop/data_24/Npy_files/x_test.npy')    \n",
    "y_test = np.load('/Users/sailaharimullapudi/Desktop/data_24/Npy_files/y_test.npy')   "
   ]
  },
  {
   "cell_type": "code",
   "execution_count": 3,
   "id": "f2abb1d2",
   "metadata": {},
   "outputs": [],
   "source": [
    "nsamples, nchannels, ntime = x_train.shape\n",
    "x_train_flat = x_train.reshape((nsamples, nchannels * ntime))\n",
    "\n",
    "nsamples, nchannels, ntime = x_test.shape\n",
    "x_test_flat = x_test.reshape((nsamples, nchannels * ntime))"
   ]
  },
  {
   "cell_type": "code",
   "execution_count": 4,
   "id": "67c01e31",
   "metadata": {},
   "outputs": [],
   "source": [
    "scaler = StandardScaler()\n",
    "x_train_flat = scaler.fit_transform(x_train_flat)\n",
    "x_test_flat = scaler.transform(x_test_flat)"
   ]
  },
  {
   "cell_type": "code",
   "execution_count": 5,
   "id": "8e1d64e6",
   "metadata": {},
   "outputs": [],
   "source": [
    "svm_model = svm.SVC(kernel='linear')  \n",
    "svm_model.fit(x_train_flat, y_train)\n",
    "y_pred = svm_model.predict(x_test_flat)"
   ]
  },
  {
   "cell_type": "code",
   "execution_count": 6,
   "id": "dabe3204",
   "metadata": {},
   "outputs": [
    {
     "name": "stdout",
     "output_type": "stream",
     "text": [
      "Accuracy: 0.6123234916559692\n",
      "Classification Report:\n",
      "              precision    recall  f1-score   support\n",
      "\n",
      "           0       0.69      0.76      0.72       416\n",
      "           1       0.63      0.51      0.56       289\n",
      "           2       0.17      0.22      0.19        68\n",
      "           3       0.50      0.17      0.25         6\n",
      "\n",
      "    accuracy                           0.61       779\n",
      "   macro avg       0.50      0.41      0.43       779\n",
      "weighted avg       0.62      0.61      0.61       779\n",
      "\n"
     ]
    }
   ],
   "source": [
    "print(\"Accuracy:\", accuracy_score(y_test, y_pred))\n",
    "print(\"Classification Report:\")\n",
    "print(classification_report(y_test, y_pred))"
   ]
  },
  {
   "cell_type": "code",
   "execution_count": null,
   "id": "7832e97b",
   "metadata": {},
   "outputs": [],
   "source": []
  }
 ],
 "metadata": {
  "kernelspec": {
   "display_name": "Python 3 (ipykernel)",
   "language": "python",
   "name": "python3"
  },
  "language_info": {
   "codemirror_mode": {
    "name": "ipython",
    "version": 3
   },
   "file_extension": ".py",
   "mimetype": "text/x-python",
   "name": "python",
   "nbconvert_exporter": "python",
   "pygments_lexer": "ipython3",
   "version": "3.10.9"
  }
 },
 "nbformat": 4,
 "nbformat_minor": 5
}
